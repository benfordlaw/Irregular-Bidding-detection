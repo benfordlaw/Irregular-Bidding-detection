{
 "cells": [
  {
   "cell_type": "code",
   "execution_count": 1,
   "metadata": {},
   "outputs": [],
   "source": [
    "import pandas as pd\n",
    "import numpy as np\n",
    "import sys\n",
    "import math\n",
    "import matplotlib.pyplot as plt"
   ]
  },
  {
   "cell_type": "code",
   "execution_count": 2,
   "metadata": {},
   "outputs": [],
   "source": [
    "df= pd.read_csv('WV_asphalt items.csv')\n",
    "df = df[df.Extension != 0]\n"
   ]
  },
  {
   "cell_type": "code",
   "execution_count": 3,
   "metadata": {},
   "outputs": [
    {
     "data": {
      "text/html": [
       "<div>\n",
       "<style scoped>\n",
       "    .dataframe tbody tr th:only-of-type {\n",
       "        vertical-align: middle;\n",
       "    }\n",
       "\n",
       "    .dataframe tbody tr th {\n",
       "        vertical-align: top;\n",
       "    }\n",
       "\n",
       "    .dataframe thead th {\n",
       "        text-align: right;\n",
       "    }\n",
       "</style>\n",
       "<table border=\"1\" class=\"dataframe\">\n",
       "  <thead>\n",
       "    <tr style=\"text-align: right;\">\n",
       "      <th></th>\n",
       "      <th>Quantity</th>\n",
       "      <th>Unit Price</th>\n",
       "      <th>Extension</th>\n",
       "    </tr>\n",
       "  </thead>\n",
       "  <tbody>\n",
       "    <tr>\n",
       "      <th>count</th>\n",
       "      <td>18645.000000</td>\n",
       "      <td>18645.000000</td>\n",
       "      <td>1.864500e+04</td>\n",
       "    </tr>\n",
       "    <tr>\n",
       "      <th>mean</th>\n",
       "      <td>2668.285806</td>\n",
       "      <td>166.740427</td>\n",
       "      <td>1.207697e+05</td>\n",
       "    </tr>\n",
       "    <tr>\n",
       "      <th>std</th>\n",
       "      <td>17518.085453</td>\n",
       "      <td>169.057467</td>\n",
       "      <td>3.285448e+05</td>\n",
       "    </tr>\n",
       "    <tr>\n",
       "      <th>min</th>\n",
       "      <td>0.900000</td>\n",
       "      <td>0.010000</td>\n",
       "      <td>1.000000e-02</td>\n",
       "    </tr>\n",
       "    <tr>\n",
       "      <th>25%</th>\n",
       "      <td>46.000000</td>\n",
       "      <td>89.150000</td>\n",
       "      <td>9.225000e+03</td>\n",
       "    </tr>\n",
       "    <tr>\n",
       "      <th>50%</th>\n",
       "      <td>252.000000</td>\n",
       "      <td>111.500000</td>\n",
       "      <td>3.048000e+04</td>\n",
       "    </tr>\n",
       "    <tr>\n",
       "      <th>75%</th>\n",
       "      <td>1332.000000</td>\n",
       "      <td>198.760000</td>\n",
       "      <td>1.198800e+05</td>\n",
       "    </tr>\n",
       "    <tr>\n",
       "      <th>max</th>\n",
       "      <td>735644.000000</td>\n",
       "      <td>3900.000000</td>\n",
       "      <td>1.587788e+07</td>\n",
       "    </tr>\n",
       "  </tbody>\n",
       "</table>\n",
       "</div>"
      ],
      "text/plain": [
       "            Quantity    Unit Price     Extension\n",
       "count   18645.000000  18645.000000  1.864500e+04\n",
       "mean     2668.285806    166.740427  1.207697e+05\n",
       "std     17518.085453    169.057467  3.285448e+05\n",
       "min         0.900000      0.010000  1.000000e-02\n",
       "25%        46.000000     89.150000  9.225000e+03\n",
       "50%       252.000000    111.500000  3.048000e+04\n",
       "75%      1332.000000    198.760000  1.198800e+05\n",
       "max    735644.000000   3900.000000  1.587788e+07"
      ]
     },
     "execution_count": 3,
     "metadata": {},
     "output_type": "execute_result"
    }
   ],
   "source": [
    "df.describe()"
   ]
  },
  {
   "cell_type": "code",
   "execution_count": 4,
   "metadata": {},
   "outputs": [],
   "source": [
    "def count_first_digit(data_str):\n",
    "    mask=df[data_str]>1.\n",
    "    data=list(df[mask][data_str])\n",
    "    for i in range(len(data)):\n",
    "        while data[i]>=10:\n",
    "            data[i]=data[i]/10\n",
    "    first_digits=[int(x) for x in sorted(data)]\n",
    "    #print(first_digits)\n",
    "    unique=(set(first_digits))#a list with unique values of first_digit list\n",
    "    data_count=[]\n",
    "    for i in unique:\n",
    "        count=first_digits.count(i)\n",
    "        data_count.append(count)\n",
    "    total_count=sum(data_count)\n",
    "    data_percentage=[(i/total_count)*100 for i in data_count]\n",
    "    return  total_count,data_count, data_percentage\n",
    "\n",
    "# Benford's Law percentages for leading digits 1-9\n",
    "BENFORD = [30.1, 17.6, 12.5, 9.7, 7.9, 6.7, 5.8, 5.1, 4.6]"
   ]
  },
  {
   "cell_type": "code",
   "execution_count": 5,
   "metadata": {},
   "outputs": [
    {
     "data": {
      "text/plain": [
       "(18599,\n",
       " [5904, 3040, 2185, 1692, 1366, 1278, 1136, 1071, 927],\n",
       " [31.743642131297385,\n",
       "  16.344964783052852,\n",
       "  11.747943437819238,\n",
       "  9.097263293725469,\n",
       "  7.344480886069143,\n",
       "  6.871337168664981,\n",
       "  6.10785526103554,\n",
       "  5.758374106134738,\n",
       "  4.984138932200656])"
      ]
     },
     "execution_count": 5,
     "metadata": {},
     "output_type": "execute_result"
    }
   ],
   "source": [
    "count_first_digit('Extension')"
   ]
  },
  {
   "cell_type": "code",
   "execution_count": 6,
   "metadata": {},
   "outputs": [],
   "source": [
    "def get_expected_counts(total_count):\n",
    "    \"\"\"Return list of expected Benford's Law counts for total sample count.\"\"\"\n",
    "    return [round(p * total_count / 100) for p in BENFORD]"
   ]
  },
  {
   "cell_type": "code",
   "execution_count": 7,
   "metadata": {},
   "outputs": [],
   "source": [
    "def chi_square_test(data_count,expected_counts):\n",
    "    \"\"\"Return boolean on chi-square test (8 degrees of freedom & P-val=0.05).\"\"\"\n",
    "    chi_square_stat = 0  # chi square test statistic\n",
    "    for data, expected in zip(data_count,expected_counts):\n",
    "\n",
    "        chi_square = math.pow(data - expected, 2)\n",
    "\n",
    "        chi_square_stat += chi_square / expected\n",
    "\n",
    "    print(\"\\nChi-squared Test Statistic = {:.3f}\".format(chi_square_stat))\n",
    "    print(\"Critical value at a P-value of 0.05 is 30.\")    \n",
    "    return chi_square_stat < 30"
   ]
  },
  {
   "cell_type": "code",
   "execution_count": 8,
   "metadata": {},
   "outputs": [],
   "source": [
    "total_count,data_count, data_percentage= count_first_digit('Extension')\n",
    "expected_counts=get_expected_counts(total_count)"
   ]
  },
  {
   "cell_type": "code",
   "execution_count": 9,
   "metadata": {},
   "outputs": [
    {
     "name": "stdout",
     "output_type": "stream",
     "text": [
      "\n",
      "Chi-squared Test Statistic = 81.325\n",
      "Critical value at a P-value of 0.05 is 30.\n"
     ]
    },
    {
     "data": {
      "text/plain": [
       "False"
      ]
     },
     "execution_count": 9,
     "metadata": {},
     "output_type": "execute_result"
    }
   ],
   "source": [
    "chi_square_test(data_count,expected_counts)"
   ]
  },
  {
   "cell_type": "code",
   "execution_count": 10,
   "metadata": {},
   "outputs": [],
   "source": [
    "#1st_bar_chart\n",
    "def bar_chart(data_pct):\n",
    "\n",
    "    \"\"\"Make bar chart of observed vs expected 1st digit frequency in percent.\"\"\"\n",
    "\n",
    "    fig, ax = plt.subplots()\n",
    "    index = [i + 1 for i in range(len(data_pct))]  # 1st digits for x-axis\n",
    "# text for labels, title and ticks\n",
    "    fig.canvas.set_window_title('Percentage First Digits')\n",
    "    ax.set_title('Data vs. Benford Values', fontsize=15)\n",
    "    ax.set_ylabel('Frequency (%)', fontsize=16)\n",
    "    ax.set_xticks(index)\n",
    "    ax.set_xticklabels(index, fontsize=14)\n",
    "    # build bars    \n",
    "    rects = ax.bar(index, data_pct, width=0.95, color='black', label='Data')\n",
    "    # attach a text label above each bar displaying its height\n",
    "    for rect in rects:\n",
    "        height = rect.get_height()\n",
    "        ax.text(rect.get_x() + rect.get_width()/2, height,\n",
    "                '{:0.1f}'.format(height), ha='center', va='bottom', \n",
    "\n",
    "                fontsize=13)\n",
    "    # plot Benford values as red dots\n",
    "    ax.scatter(index, BENFORD, s=150, c='red', zorder=2, label='Benford')\n",
    "    # Hide the right and top spines & add legend\n",
    "    ax.spines['right'].set_visible(False)\n",
    "    ax.spines['top'].set_visible(False)\n",
    "    ax.legend(prop={'size':15}, frameon=False)\n",
    "    plt.show()\n",
    "\n",
    "    # plot Benford values as red dots\n",
    "\n",
    "    ax.scatter(index, BENFORD, s=150, c='red', zorder=2, label='Benford')\n",
    "    # Hide the right and top spines & add legend\n",
    "\n",
    "    ax.spines['right'].set_visible(False)\n",
    "\n",
    "    ax.spines['top'].set_visible(False)\n",
    "\n",
    "    ax.legend(prop={'size':15}, frameon=False)\n",
    "    plt.show()\n",
    "    \n",
    "    #2nd_bar_chart\n"
   ]
  },
  {
   "cell_type": "code",
   "execution_count": 11,
   "metadata": {},
   "outputs": [
    {
     "data": {
      "image/png": "[encoded data removed]",
      "text/plain": [
       "<Figure size 432x288 with 1 Axes>"
      ]
     },
     "metadata": {
      "needs_background": "light"
     },
     "output_type": "display_data"
    }
   ],
   "source": [
    "bar_chart(data_percentage)"
   ]
  },
  {
   "cell_type": "code",
   "execution_count": 12,
   "metadata": {},
   "outputs": [
    {
     "data": {
      "image/png": "[encoded data removed]",
      "text/plain": [
       "<Figure size 432x288 with 1 Axes>"
      ]
     },
     "metadata": {
      "needs_background": "light"
     },
     "output_type": "display_data"
    }
   ],
   "source": [
    "    labels=list(data_percentage)\n",
    "width = 0.35 \n",
    "x = np.arange(len(data_percentage)) # the label locations\n",
    "width = 0.35  # the width of the bars\n",
    "fig, ax = plt.subplots()\n",
    "rects1 = ax.bar(x - width, data_percentage, width=0.95, color='black', label='Data')\n",
    "rects2 = ax.bar(x + width, BENFORD,width,label='Benford')\n",
    "# Add some text for labels, title and custom x-axis tick labels, etc.\n",
    "ax.set_ylabel('Frequency (%)', fontsize=16)\n",
    "ax.set_title('Benford')\n",
    "ax.set_xticks(x)\n",
    "ax.legend()\n",
    "\n",
    "plt.show()"
   ]
  },
  {
   "cell_type": "code",
   "execution_count": 13,
   "metadata": {},
   "outputs": [
    {
     "data": {
      "text/plain": [
       "[5598, 3273, 2325, 1804, 1469, 1246, 1079, 949, 856]"
      ]
     },
     "execution_count": 13,
     "metadata": {},
     "output_type": "execute_result"
    }
   ],
   "source": [
    "expected_counts"
   ]
  },
  {
   "cell_type": "code",
   "execution_count": 14,
   "metadata": {},
   "outputs": [
    {
     "data": {
      "text/plain": [
       "[31.743642131297385,\n",
       " 16.344964783052852,\n",
       " 11.747943437819238,\n",
       " 9.097263293725469,\n",
       " 7.344480886069143,\n",
       " 6.871337168664981,\n",
       " 6.10785526103554,\n",
       " 5.758374106134738,\n",
       " 4.984138932200656]"
      ]
     },
     "execution_count": 14,
     "metadata": {},
     "output_type": "execute_result"
    }
   ],
   "source": [
    "data_percentage"
   ]
  },
  {
   "cell_type": "code",
   "execution_count": 16,
   "metadata": {},
   "outputs": [],
   "source": [
    "#astropy.stats.kuiper(data, cdf=<function <lambda>>, args=())"
   ]
  },
  {
   "cell_type": "code",
   "execution_count": null,
   "metadata": {},
   "outputs": [],
   "source": []
  }
 ],
 "metadata": {
  "kernelspec": {
   "display_name": "Python 3",
   "language": "python",
   "name": "python3"
  },
  "language_info": {
   "codemirror_mode": {
    "name": "ipython",
    "version": 3
   },
   "file_extension": ".py",
   "mimetype": "text/x-python",
   "name": "python",
   "nbconvert_exporter": "python",
   "pygments_lexer": "ipython3",
   "version": "3.8.5"
  }
 },
 "nbformat": 4,
 "nbformat_minor": 4
}
